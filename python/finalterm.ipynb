{
 "cells": [
  {
   "cell_type": "code",
   "execution_count": 14,
   "metadata": {},
   "outputs": [
    {
     "name": "stdout",
     "output_type": "stream",
     "text": [
      "백신이 가장 많이 접종된 날:  \n",
      "백신이 가장 적게 접종된 날:  \n"
     ]
    }
   ],
   "source": [
    "#(2)\n",
    "import csv\n",
    "\n",
    "f=open('country_vaccinations.csv','r', encoding='cp949')\n",
    "\n",
    "data = csv.reader(f)\n",
    "header = next(data)\n",
    "\n",
    "# 가장 많이 맞은 날\n",
    "greatest_day = ''\n",
    "greatest_temp = -999\n",
    "\n",
    "# 가장 적게 맞은 날\n",
    "least_day = ''\n",
    "least_temp = 999\n",
    "\n",
    "for row in data:\n",
    "    if row[-1] == '':\n",
    "        row[-1] = -999\n",
    "    if row[-2] == '':\n",
    "        row[-2] = 999\n",
    "        \n",
    "        row[-1] = float(row[-1])\n",
    "        row[-2] = float(row[-2])\n",
    "        \n",
    "        if greatest_temp < row[-1]:\n",
    "            greatest_day = row[2]\n",
    "            greatest_temp = row[-1]\n",
    "        if least_temp > row[-2]:\n",
    "            least_day = row[2]\n",
    "            least_temp = row[-2]\n",
    "            \n",
    "f.close()\n",
    "\n",
    "print('백신이 가장 많이 접종된 날: ', greatest_day)\n",
    "print('백신이 가장 적게 접종된 날: ', least_day)"
   ]
  },
  {
   "cell_type": "code",
   "execution_count": 15,
   "metadata": {},
   "outputs": [],
   "source": [
    "#(3)\n",
    "import csv\n",
    "\n",
    "f=open('country_vaccinations.csv','r', encoding='cp949')\n",
    "\n",
    "data = csv.reader(f)\n",
    "header = next(data)\n",
    "\n",
    "country_name_count=0;\n",
    "country_name = '';\n",
    "\n",
    "for row in data:\n",
    "    country_name = row[0]\n",
    "    \n",
    "    if(country_)"
   ]
  },
  {
   "cell_type": "code",
   "execution_count": null,
   "metadata": {},
   "outputs": [],
   "source": [
    "#(4)\n",
    "import csv\n",
    "import matplotlib.pyplot as plt\n",
    "import numpy as np\n",
    "\n",
    "f=open('country_vaccinations.csv','r', encoding='cp949')\n",
    "\n",
    "data = csv.reader(f)\n",
    "header = next(data)"
   ]
  }
 ],
 "metadata": {
  "kernelspec": {
   "display_name": "Python 3",
   "language": "python",
   "name": "python3"
  },
  "language_info": {
   "codemirror_mode": {
    "name": "ipython",
    "version": 3
   },
   "file_extension": ".py",
   "mimetype": "text/x-python",
   "name": "python",
   "nbconvert_exporter": "python",
   "pygments_lexer": "ipython3",
   "version": "3.8.5"
  }
 },
 "nbformat": 4,
 "nbformat_minor": 4
}
