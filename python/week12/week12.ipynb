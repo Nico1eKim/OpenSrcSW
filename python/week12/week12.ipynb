{
 "cells": [
  {
   "cell_type": "code",
   "execution_count": 2,
   "metadata": {},
   "outputs": [
    {
     "name": "stdout",
     "output_type": "stream",
     "text": [
      "일교차가 가장 큰 날\n",
      "날짜 :  2021-04-21\n",
      "최저기온이 가장 낮은 날\n",
      "날짜 :  2021-01-08\n",
      "최고기온이 가장 높은 날\n",
      "날짜 :  2021-07-24\n"
     ]
    }
   ],
   "source": [
    "# 실습 문제 1번\n",
    "\n",
    "import csv\n",
    "f = open('seoul.csv', 'r', encoding = 'cp949')\n",
    "\n",
    "data = csv.reader(f)\n",
    "header = next(data)\n",
    "# 일교차 가장 큰날\n",
    "max_temp = -999\n",
    "max_date = ''\n",
    "# 최저기온 가장 낮은날\n",
    "min_temp = 999\n",
    "min_date = ''\n",
    "# 최고기온 가장 높은날\n",
    "range_temp =-999\n",
    "range_date = ''\n",
    "\n",
    "for row in data:\n",
    "    if row[-1] == '':\n",
    "        row[-1] = -999 # 최고 누락이면 -999\n",
    "    if row[-2] == '':\n",
    "        row[-2] = 999 # 최저 누락이면 999\n",
    "        \n",
    "    row[-1] = float(row[-1])\n",
    "    row[-2] = float(row[-2])\n",
    "    \n",
    "    if max_temp < row[-1]:\n",
    "        max_date = row[0]\n",
    "        max_temp = row[-1]\n",
    "    if min_temp > row[-2]:\n",
    "        min_date = row[0]\n",
    "        min_temp = row[-2]\n",
    "    if range_temp < row[-1]-row[-2]:\n",
    "        range_date = row[0]\n",
    "        range_temp = row[-1]-row[-2]\n",
    "\n",
    "f.close()\n",
    "\n",
    "print('일교차가 가장 큰 날')\n",
    "print('날짜 : ', range_date)\n",
    "print('최저기온이 가장 낮은 날')\n",
    "print('날짜 : ', min_date)\n",
    "print('최고기온이 가장 높은 날')\n",
    "print('날짜 : ',max_date)"
   ]
  },
  {
   "cell_type": "code",
   "execution_count": null,
   "metadata": {},
   "outputs": [],
   "source": [
    "# 실습 문제 2번\n",
    "\n"
   ]
  }
 ],
 "metadata": {
  "kernelspec": {
   "display_name": "Python 3",
   "language": "python",
   "name": "python3"
  },
  "language_info": {
   "codemirror_mode": {
    "name": "ipython",
    "version": 3
   },
   "file_extension": ".py",
   "mimetype": "text/x-python",
   "name": "python",
   "nbconvert_exporter": "python",
   "pygments_lexer": "ipython3",
   "version": "3.8.5"
  }
 },
 "nbformat": 4,
 "nbformat_minor": 4
}
